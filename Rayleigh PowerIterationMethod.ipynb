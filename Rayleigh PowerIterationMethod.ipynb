{
 "cells": [
  {
   "cell_type": "markdown",
   "metadata": {},
   "source": [
    "# Rayleigh Power Iteration Method"
   ]
  },
  {
   "cell_type": "code",
   "execution_count": 12,
   "metadata": {},
   "outputs": [],
   "source": [
    "def power_rayleigh(a, mu, b, number_itr):\n",
    "    I = np.zeros((len(a[0]), len(a[0])))\n",
    "    for i in range(len(a[0])):\n",
    "        I[i][i] = 1\n",
    "    for k in range(number_itr):\n",
    "        \n",
    "        s = [0]*len(a[0])\n",
    "        b1 = [0]*len(a[0])\n",
    "        t = np.zeros((len(a[0]), len(a[0])))\n",
    "        norm = 0\n",
    "            \n",
    "        for i in range(len(a[0])):\n",
    "            for j in range(len(a[0])):\n",
    "                t[i][j] = a[i][j] - mu * I[i][j]\n",
    "        try:\n",
    "            t_inv = np.linalg.inv(t)\n",
    "        except:\n",
    "            print(\"converged to:\")\n",
    "            return mu,b\n",
    "        \n",
    "        for i in range(len(a[0])):\n",
    "            for j in range(len(a[0])):\n",
    "                b1[i] += t_inv[i][j]*b[j]\n",
    "            norm += b1[i]**2\n",
    "        \n",
    "        for i in range(len(a[0])):\n",
    "            b[i] = b1[i]/np.sqrt(norm)\n",
    "        \n",
    "        for i in range(len(a[0])):\n",
    "            for j in range(len(a[0])):\n",
    "                s[i] += a[i][j]*b[j]\n",
    "        mu = 0\n",
    "        norm = 0\n",
    "        for i in range(len(a[0])):\n",
    "            norm += b[i]**2\n",
    "        for i in range(len(a[0])):\n",
    "            mu += s[i]*b[i]/norm\n",
    "            \n",
    "    return mu,b\n",
    "        "
   ]
  },
  {
   "cell_type": "code",
   "execution_count": 13,
   "metadata": {},
   "outputs": [
    {
     "name": "stdout",
     "output_type": "stream",
     "text": [
      "converged to:\n"
     ]
    },
    {
     "data": {
      "text/plain": [
       "(-1.7320508075688772,\n",
       " [-0.8068982213550734, 0.29534524728443606, 0.5115529740706373])"
      ]
     },
     "execution_count": 13,
     "metadata": {},
     "output_type": "execute_result"
    }
   ],
   "source": [
    "power_rayleigh([[-1,2,0],[1,1,0],[2,-1,2]], -2 , [-1,1,-1], 20 )"
   ]
  }
 ],
 "metadata": {
  "kernelspec": {
   "display_name": "Python 3",
   "language": "python",
   "name": "python3"
  },
  "language_info": {
   "codemirror_mode": {
    "name": "ipython",
    "version": 3
   },
   "file_extension": ".py",
   "mimetype": "text/x-python",
   "name": "python",
   "nbconvert_exporter": "python",
   "pygments_lexer": "ipython3",
   "version": "3.7.6"
  }
 },
 "nbformat": 4,
 "nbformat_minor": 4
}
